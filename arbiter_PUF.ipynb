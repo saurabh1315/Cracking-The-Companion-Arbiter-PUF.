import numpy as np
import pandas as pd
from sklearn.model_selection import train_test_split
from sklearn.linear_model import LogisticRegression
from sklearn.metrics import accuracy_score

# Sample Data: Assume 'features' is the engineered feature matrix and 'labels' are the corresponding outputs
# For illustration, generating random binary data for features and labels
np.random.seed(42)
n_samples = 1000
n_features = 32  # Corresponding to 32-bit challenges

# Simulating feature vectors (1000 samples, 32 features each)
features = np.random.randint(2, size=(n_samples, n_features))

# Simulating labels (binary output, 0 or 1)
labels = np.random.randint(2, size=(n_samples,))

# Splitting data into training and testing sets
X_train, X_test, y_train, y_test = train_test_split(features, labels, test_size=0.2, random_state=42)

# Initialize and train a Logistic Regression model (linear model)
model = LogisticRegression(max_iter=1000, random_state=42)
model.fit(X_train, y_train)

# Predicting on the test set
y_pred = model.predict(X_test)

# Calculating the accuracy
accuracy = accuracy_score(y_test, y_pred)

print(f"Model Accuracy: {accuracy * 100:.2f}%")
